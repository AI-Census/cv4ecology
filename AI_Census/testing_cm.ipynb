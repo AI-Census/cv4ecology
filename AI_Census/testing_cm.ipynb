{
 "cells": [
  {
   "cell_type": "code",
   "execution_count": 5,
   "metadata": {},
   "outputs": [
    {
     "name": "stdout",
     "output_type": "stream",
     "text": [
      "Image ID: 80_20220828 (1903), Category ID: 2, Score: 0.26904\n"
     ]
    }
   ],
   "source": [
    "import json\n",
    "import pandas as pd\n",
    "\n",
    "# Read JSON content from the file\n",
    "predictions_file_path = \"Trainings/YOLOv8/2_exp_batch_16/predictions.json\"\n",
    "with open(predictions_file_path, 'r') as f:\n",
    "    predictions_file_content = f.read()\n",
    "\n",
    "# Sample JSON content in the predictions_file variable\n",
    "'''\n",
    "[\n",
    "    {\"image_id\": \"40_20201024 (1)\", \"category_id\": 9, \"bbox\": [867.187, 2.109, 478.125, 907.266], \"score\": 0.95459},\n",
    "    {\"image_id\": \"40_20201024 (1)\", \"category_id\": 9, \"bbox\": [2103.75, 2.812, 296.25, 1096.875], \"score\": 0.93457},\n",
    "    {\"image_id\": \"40_20201024 (1)\", \"category_id\": 2, \"bbox\": [2340.0, 390.937, 60.0, 532.5], \"score\": 0.00797},\n",
    "    {\"image_id\": \"40_20201024 (1)\", \"category_id\": 2, \"bbox\": [2317.5, 456.562, 82.5, 423.75], \"score\": 0.00455},\n",
    "    {\"image_id\": \"40_20201024 (1)\", \"category_id\": 2, \"bbox\": [2231.25, 492.187, 168.75, 384.375], \"score\": 0.002},\n",
    "    {\"image_id\": \"40_20201024 (1)\", \"category_id\": 2, \"bbox\": [2351.25, 290.625, 48.75, 658.125], \"score\": 0.00172}\n",
    "]\n",
    "'''\n",
    "\n",
    "\n",
    "\n",
    "# Load JSON content\n",
    "predictions = json.loads(predictions_file_content)\n",
    "\n",
    "# Initialize variables to store the highest score and relevant information\n",
    "highest_score = 0\n",
    "best_entry = None\n",
    "\n",
    "# Iterate through predictions to find the highest score for category_id = 2\n",
    "for entry in predictions:\n",
    "    if entry[\"category_id\"] == 2 and entry[\"score\"] > highest_score:\n",
    "        highest_score = entry[\"score\"]\n",
    "        best_entry = entry\n",
    "\n",
    "# Print the image_id, category_id, and score of the best entry\n",
    "if best_entry:\n",
    "    image_id = best_entry[\"image_id\"]\n",
    "    category_id = best_entry[\"category_id\"]\n",
    "    score = best_entry[\"score\"]\n",
    "    print(f\"Image ID: {image_id}, Category ID: {category_id}, Score: {score:.5f}\")\n",
    "else:\n",
    "    print(\"No entry found for category_id = 2\")"
   ]
  }
 ],
 "metadata": {
  "kernelspec": {
   "display_name": "cv4ecology",
   "language": "python",
   "name": "python3"
  },
  "language_info": {
   "codemirror_mode": {
    "name": "ipython",
    "version": 3
   },
   "file_extension": ".py",
   "mimetype": "text/x-python",
   "name": "python",
   "nbconvert_exporter": "python",
   "pygments_lexer": "ipython3",
   "version": "3.8.17"
  },
  "orig_nbformat": 4
 },
 "nbformat": 4,
 "nbformat_minor": 2
}
