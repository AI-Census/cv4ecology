{
 "cells": [
  {
   "cell_type": "code",
   "execution_count": 28,
   "metadata": {
    "collapsed": true,
    "ExecuteTime": {
     "end_time": "2023-07-26T22:27:59.705700200Z",
     "start_time": "2023-07-26T22:27:59.690696500Z"
    }
   },
   "outputs": [],
   "source": [
    "import pandas as pd\n",
    "from datetime import datetime, timedelta"
   ]
  },
  {
   "cell_type": "code",
   "execution_count": 29,
   "outputs": [],
   "source": [
    "# Ruta del archivo CSV\n",
    "csv_data_path = \"../Data/CSVs/dataset_ampliado_caltech.csv\""
   ],
   "metadata": {
    "collapsed": false,
    "ExecuteTime": {
     "end_time": "2023-07-26T22:27:59.926157300Z",
     "start_time": "2023-07-26T22:27:59.907163400Z"
    }
   }
  },
  {
   "cell_type": "code",
   "execution_count": 30,
   "outputs": [],
   "source": [
    "# Leer el archivo CSV en un DataFrame\n",
    "df = pd.read_csv(csv_data_path)"
   ],
   "metadata": {
    "collapsed": false,
    "ExecuteTime": {
     "end_time": "2023-07-26T22:28:00.268437600Z",
     "start_time": "2023-07-26T22:28:00.212883200Z"
    }
   }
  },
  {
   "cell_type": "code",
   "execution_count": 31,
   "outputs": [],
   "source": [
    "# Convertir la columna 'date_time' a tipo datetime con formato especificado\n",
    "df['date_time'] = pd.to_datetime(df['date_time'], format='%Y:%m:%d %H:%M:%S')"
   ],
   "metadata": {
    "collapsed": false,
    "ExecuteTime": {
     "end_time": "2023-07-26T22:28:00.549254800Z",
     "start_time": "2023-07-26T22:28:00.534254500Z"
    }
   }
  },
  {
   "cell_type": "code",
   "execution_count": 32,
   "outputs": [],
   "source": [
    "# Función para calcular la secuencia de imágenes\n",
    "def calculate_seq_id(row, max_time_diff=timedelta(minutes=2)):\n",
    "    global current_seq_id, last_time, last_rev, last_cam, last_station\n",
    "\n",
    "    if (row['date_time'] - last_time > max_time_diff) or \\\n",
    "       (row['rev'] != last_rev) or \\\n",
    "       (row['cam'] != last_cam) or \\\n",
    "       (row['station'] != last_station):\n",
    "        current_seq_id += 1\n",
    "\n",
    "    last_time = row['date_time']\n",
    "    last_rev = row['rev']\n",
    "    last_cam = row['cam']\n",
    "    last_station = row['station']\n",
    "\n",
    "    return current_seq_id"
   ],
   "metadata": {
    "collapsed": false,
    "ExecuteTime": {
     "end_time": "2023-07-26T22:28:00.862158700Z",
     "start_time": "2023-07-26T22:28:00.841152500Z"
    }
   }
  },
  {
   "cell_type": "code",
   "execution_count": 33,
   "outputs": [],
   "source": [
    "# Ordenar el DataFrame por 'rev', 'station', 'cam' y 'date_time'\n",
    "df.sort_values(by=['rev', 'station', 'cam', 'date_time'], inplace=True)"
   ],
   "metadata": {
    "collapsed": false,
    "ExecuteTime": {
     "end_time": "2023-07-26T22:28:01.429689100Z",
     "start_time": "2023-07-26T22:28:01.400660600Z"
    }
   }
  },
  {
   "cell_type": "code",
   "execution_count": 34,
   "outputs": [],
   "source": [
    "# Inicializar variables para calcular la secuencia\n",
    "current_seq_id = 1\n",
    "last_time = df.iloc[0]['date_time'] - timedelta(minutes=2)\n",
    "last_rev = df.iloc[0]['rev']\n",
    "last_cam = df.iloc[0]['cam']\n",
    "last_station = df.iloc[0]['station']"
   ],
   "metadata": {
    "collapsed": false,
    "ExecuteTime": {
     "end_time": "2023-07-26T22:28:01.918284300Z",
     "start_time": "2023-07-26T22:28:01.902289500Z"
    }
   }
  },
  {
   "cell_type": "code",
   "execution_count": 35,
   "outputs": [],
   "source": [
    "# Aplicar la función calculate_seq_id para obtener la columna 'seq_id'\n",
    "df['seq_id'] = df.apply(calculate_seq_id, axis=1)"
   ],
   "metadata": {
    "collapsed": false,
    "ExecuteTime": {
     "end_time": "2023-07-26T22:28:03.682399300Z",
     "start_time": "2023-07-26T22:28:02.719738200Z"
    }
   }
  },
  {
   "cell_type": "code",
   "execution_count": 36,
   "outputs": [],
   "source": [
    "# Guardar el DataFrame con la nueva columna en un nuevo archivo CSV\n",
    "df.to_csv(\"../Data/CSVs/dataset_ampliado_caltech_con_seq_id.csv\", index=False)"
   ],
   "metadata": {
    "collapsed": false,
    "ExecuteTime": {
     "end_time": "2023-07-26T22:28:12.863543200Z",
     "start_time": "2023-07-26T22:28:12.718362Z"
    }
   }
  },
  {
   "cell_type": "code",
   "execution_count": null,
   "outputs": [],
   "source": [],
   "metadata": {
    "collapsed": false
   }
  }
 ],
 "metadata": {
  "kernelspec": {
   "display_name": "Python 3",
   "language": "python",
   "name": "python3"
  },
  "language_info": {
   "codemirror_mode": {
    "name": "ipython",
    "version": 2
   },
   "file_extension": ".py",
   "mimetype": "text/x-python",
   "name": "python",
   "nbconvert_exporter": "python",
   "pygments_lexer": "ipython2",
   "version": "2.7.6"
  }
 },
 "nbformat": 4,
 "nbformat_minor": 0
}
