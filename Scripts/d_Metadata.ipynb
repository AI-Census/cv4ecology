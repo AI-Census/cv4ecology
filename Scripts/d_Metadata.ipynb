{
 "cells": [
  {
   "cell_type": "code",
   "execution_count": 1,
   "metadata": {
    "ExecuteTime": {
     "end_time": "2023-08-07T13:37:27.379726100Z",
     "start_time": "2023-08-07T13:37:25.043109700Z"
    },
    "collapsed": true
   },
   "outputs": [],
   "source": [
    "import pandas as pd"
   ]
  },
  {
   "cell_type": "code",
   "execution_count": 10,
   "metadata": {
    "ExecuteTime": {
     "end_time": "2023-08-07T13:41:39.331322700Z",
     "start_time": "2023-08-07T13:41:39.307322400Z"
    },
    "collapsed": false
   },
   "outputs": [],
   "source": [
    "# Ruta del archivo CSV\n",
    "PATH = \"../\"\n",
    "csv_file = PATH + \"Data/CSVs/dataset_ampliado_caltech.csv\""
   ]
  },
  {
   "cell_type": "code",
   "execution_count": 11,
   "metadata": {
    "ExecuteTime": {
     "end_time": "2023-08-07T13:41:40.017805200Z",
     "start_time": "2023-08-07T13:41:39.867693100Z"
    },
    "collapsed": false
   },
   "outputs": [
    {
     "name": "stdout",
     "output_type": "stream",
     "text": [
      "Cantidad de imágenes por clase:\n",
      "horse                2999\n",
      "empty                2996\n",
      "fallow deer          2996\n",
      "wild boar            2992\n",
      "human                2988\n",
      "red fox              2987\n",
      "cow                  2986\n",
      "red deer             2986\n",
      "european badger       395\n",
      "european rabbit       314\n",
      "iberian hare          261\n",
      "egyptian mongoose     176\n",
      "bird                  111\n",
      "genet                  76\n",
      "iberian lynx           50\n",
      "domestic dog           28\n",
      "Name: class, dtype: int64\n"
     ]
    }
   ],
   "source": [
    "# Cargar el CSV en un DataFrame\n",
    "df = pd.read_csv(csv_file)\n",
    "\n",
    "# Contar la cantidad de imágenes para cada clase\n",
    "image_count_per_class = df['class'].value_counts()\n",
    "\n",
    "print(\"Cantidad de imágenes por clase:\")\n",
    "print(image_count_per_class)"
   ]
  },
  {
   "cell_type": "code",
   "execution_count": null,
   "metadata": {
    "collapsed": false
   },
   "outputs": [],
   "source": []
  }
 ],
 "metadata": {
  "kernelspec": {
   "display_name": "Python 3",
   "language": "python",
   "name": "python3"
  },
  "language_info": {
   "codemirror_mode": {
    "name": "ipython",
    "version": 2
   },
   "file_extension": ".py",
   "mimetype": "text/x-python",
   "name": "python",
   "nbconvert_exporter": "python",
   "pygments_lexer": "ipython2",
   "version": "3.11.4"
  }
 },
 "nbformat": 4,
 "nbformat_minor": 0
}
