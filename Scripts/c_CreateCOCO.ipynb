{
 "cells": [
  {
   "cell_type": "code",
   "execution_count": 37,
   "outputs": [],
   "source": [
    "import os\n",
    "import json\n",
    "import csv"
   ],
   "metadata": {
    "collapsed": false,
    "ExecuteTime": {
     "end_time": "2023-07-26T22:31:42.740604Z",
     "start_time": "2023-07-26T22:31:42.724079100Z"
    }
   }
  },
  {
   "cell_type": "code",
   "execution_count": 38,
   "outputs": [],
   "source": [
    "IMG_HEIGHT = 1350\n",
    "IMG_WIDTH = 2400"
   ],
   "metadata": {
    "collapsed": false,
    "ExecuteTime": {
     "end_time": "2023-07-26T22:31:42.945024200Z",
     "start_time": "2023-07-26T22:31:42.932165100Z"
    }
   }
  },
  {
   "cell_type": "code",
   "execution_count": 39,
   "outputs": [],
   "source": [
    "def load_csv_data(csv_data):\n",
    "    with open(csv_data, \"r\") as csv_file:\n",
    "        csv_reader = csv.DictReader(csv_file)\n",
    "        csv_data_list = list(csv_reader)\n",
    "    return csv_data_list"
   ],
   "metadata": {
    "collapsed": false,
    "ExecuteTime": {
     "end_time": "2023-07-26T22:31:43.106673200Z",
     "start_time": "2023-07-26T22:31:43.090668800Z"
    }
   }
  },
  {
   "cell_type": "code",
   "execution_count": 40,
   "metadata": {
    "collapsed": true,
    "ExecuteTime": {
     "end_time": "2023-07-26T22:31:43.264774800Z",
     "start_time": "2023-07-26T22:31:43.243788900Z"
    }
   },
   "outputs": [],
   "source": [
    "def convert_to_coco_format(json_data, csv_data_list):\n",
    "    coco_data = {\n",
    "        \"images\": [],\n",
    "        \"annotations\": [],\n",
    "        \"categories\": []\n",
    "    }\n",
    "\n",
    "    categories_mapping = {int(key): value for key, value in json_data[\"detection_categories\"].items()}\n",
    "    category_id_counter = 1\n",
    "\n",
    "    for image_data in json_data[\"images\"]:\n",
    "        image_id = len(coco_data[\"images\"]) + 1\n",
    "\n",
    "        image_info = {\n",
    "            \"id\": image_id,\n",
    "            \"dir_name\": os.path.dirname(image_data[\"file\"]),\n",
    "            \"file_name\": os.path.basename(image_data[\"file\"]),\n",
    "            \"height\": IMG_HEIGHT,\n",
    "            \"width\": IMG_WIDTH,\n",
    "            \"rev\": \"\",\n",
    "            \"station\": \"\",\n",
    "            \"cam\": \"\",\n",
    "            \"season\": \"\",\n",
    "            \"day_part\": \"\",\n",
    "            \"date_captured\": \"\",\n",
    "            \"seq_id\": \"\"\n",
    "        }\n",
    "\n",
    "        # Buscar datos del CSV para la imagen actual\n",
    "        for row in csv_data_list:\n",
    "            if row[\"path\"] == image_data[\"file\"]:\n",
    "                image_info[\"rev\"] = row[\"rev\"]\n",
    "                image_info[\"station\"] = row[\"station\"]\n",
    "                image_info[\"cam\"] = row[\"cam\"]\n",
    "                image_info[\"season\"] = row[\"season\"]\n",
    "                image_info[\"day_part\"] = row[\"day_part\"]\n",
    "                image_info[\"date_captured\"] = row[\"date_time\"]\n",
    "                image_info[\"seq_id\"] = row[\"seq_id\"]\n",
    "                break\n",
    "\n",
    "        coco_data[\"images\"].append(image_info)\n",
    "\n",
    "        for detection in image_data[\"detections\"]:\n",
    "            category_id = int(detection[\"category\"])\n",
    "            category_name = categories_mapping.get(category_id, f\"category_{category_id}\")\n",
    "\n",
    "            if category_id not in categories_mapping:\n",
    "                categories_mapping[category_id] = category_name\n",
    "                category_id_counter += 1\n",
    "\n",
    "            bbox = detection[\"bbox\"]\n",
    "            annotation = {\n",
    "                \"id\": len(coco_data[\"annotations\"]) + 1,\n",
    "                \"image_id\": image_id,\n",
    "                \"category_id\": category_id,\n",
    "                \"bbox\": [bbox[0], bbox[1], bbox[2], bbox[3]],\n",
    "                \"area\": bbox[2] * bbox[3],\n",
    "                \"iscrowd\": 0\n",
    "            }\n",
    "            coco_data[\"annotations\"].append(annotation)\n",
    "\n",
    "    for category_id, category_name in categories_mapping.items():\n",
    "        category_info = {\n",
    "            \"id\": category_id,\n",
    "            \"name\": category_name,\n",
    "            \"supercategory\": \"animal\"\n",
    "        }\n",
    "        coco_data[\"categories\"].append(category_info)\n",
    "\n",
    "    return coco_data"
   ]
  },
  {
   "cell_type": "code",
   "execution_count": 41,
   "outputs": [],
   "source": [
    "json_data_path = \"../Data/JSONs/output_actualizado_con_categorias.json\"\n",
    "csv_data_path = \"../Data/CSVs/dataset_ampliado_caltech.csv\""
   ],
   "metadata": {
    "collapsed": false,
    "ExecuteTime": {
     "end_time": "2023-07-26T22:31:43.594449900Z",
     "start_time": "2023-07-26T22:31:43.580445700Z"
    }
   }
  },
  {
   "cell_type": "code",
   "execution_count": 42,
   "outputs": [],
   "source": [
    "# Load the input JSON data\n",
    "with open(json_data_path, \"r\") as json_file:\n",
    "    input_json_data = json.load(json_file)\n",
    "\n",
    "# Cargar los datos del CSV en una lista de diccionarios\n",
    "csv_data_list = load_csv_data(csv_data_path)\n",
    "\n",
    "# Convert the JSON data to COCO format\n",
    "coco_data = convert_to_coco_format(input_json_data,csv_data_list)\n",
    "\n",
    "# Save the COCO data as a new JSON file\n",
    "with open(\"../Data/JSONs/output_coco.json\", \"w\") as output_file:\n",
    "    json.dump(coco_data, output_file, indent=4)"
   ],
   "metadata": {
    "collapsed": false,
    "ExecuteTime": {
     "end_time": "2023-07-26T22:32:32.357968500Z",
     "start_time": "2023-07-26T22:31:44.183573200Z"
    }
   }
  },
  {
   "cell_type": "code",
   "execution_count": null,
   "outputs": [],
   "source": [],
   "metadata": {
    "collapsed": false
   }
  }
 ],
 "metadata": {
  "kernelspec": {
   "display_name": "Python 3",
   "language": "python",
   "name": "python3"
  },
  "language_info": {
   "codemirror_mode": {
    "name": "ipython",
    "version": 2
   },
   "file_extension": ".py",
   "mimetype": "text/x-python",
   "name": "python",
   "nbconvert_exporter": "python",
   "pygments_lexer": "ipython2",
   "version": "2.7.6"
  }
 },
 "nbformat": 4,
 "nbformat_minor": 0
}
