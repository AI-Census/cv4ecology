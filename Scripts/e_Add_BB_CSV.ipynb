{
 "cells": [
  {
   "cell_type": "code",
   "execution_count": 95,
   "metadata": {
    "ExecuteTime": {
     "end_time": "2023-08-07T13:37:27.379726100Z",
     "start_time": "2023-08-07T13:37:25.043109700Z"
    },
    "collapsed": true
   },
   "outputs": [],
   "source": [
    "import pandas as pd\n",
    "import json\n",
    "import random\n",
    "import csv"
   ]
  },
  {
   "cell_type": "code",
   "execution_count": 96,
   "metadata": {},
   "outputs": [],
   "source": [
    "# Constantes"
   ]
  },
  {
   "cell_type": "code",
   "execution_count": 97,
   "metadata": {
    "ExecuteTime": {
     "end_time": "2023-08-07T13:41:39.331322700Z",
     "start_time": "2023-08-07T13:41:39.307322400Z"
    },
    "collapsed": false
   },
   "outputs": [],
   "source": [
    "# Ruta de los archivos\n",
    "PATH = \"../\"\n",
    "coco_file = PATH + \"Data/JSONs/dataset_caltech_coco.json\"\n",
    "csv_file = PATH + \"Data/CSVs/dataset_ampliado_caltech.csv\""
   ]
  },
  {
   "cell_type": "code",
   "execution_count": 98,
   "metadata": {
    "ExecuteTime": {
     "end_time": "2023-08-07T13:41:40.017805200Z",
     "start_time": "2023-08-07T13:41:39.867693100Z"
    },
    "collapsed": false
   },
   "outputs": [],
   "source": [
    "# Cargar el archivo JSON del dataset\n",
    "with open(coco_file, 'r') as f:\n",
    "    coco_data = json.load(f)\n",
    "\n",
    "# Cargar el archivo CSV\n",
    "df = pd.read_csv(csv_file)"
   ]
  },
  {
   "cell_type": "code",
   "execution_count": 99,
   "metadata": {},
   "outputs": [],
   "source": [
    "# Crear un diccionario para mapear el path de las imágenes a sus anotaciones\n",
    "image_annotations = {}\n",
    "for annotation in coco_data[\"annotations\"]:\n",
    "    image_id = annotation[\"image_id\"]\n",
    "    bbox = annotation[\"bbox\"]\n",
    "    category_id = annotation[\"category_id\"]\n",
    "    image_info = coco_data[\"images\"][image_id - 1]  # Restamos 1 para obtener el índice correcto\n",
    "    image_path = image_info[\"dir_name\"] + \"/\" + image_info[\"file_name\"]\n",
    "    if image_path in image_annotations:\n",
    "        image_annotations[image_path].append([category_id, bbox[0], bbox[1], bbox[2], bbox[3]])\n",
    "    else:\n",
    "        image_annotations[image_path] = [[category_id, bbox[0], bbox[1], bbox[2], bbox[3]]]"
   ]
  },
  {
   "cell_type": "code",
   "execution_count": 100,
   "metadata": {},
   "outputs": [],
   "source": [
    "# Agregar las bounding boxes al DataFrame\n",
    "bounding_boxes = []\n",
    "for index, row in df.iterrows():\n",
    "    image_path = row[\"path\"]\n",
    "    if row[\"class\"] == \"empty\":\n",
    "        bounding_boxes.append([])\n",
    "    elif image_path in image_annotations:\n",
    "        bboxes = image_annotations[image_path]\n",
    "        bounding_boxes.append(bboxes)\n",
    "    else:\n",
    "        bounding_boxes.append([])\n",
    "\n",
    "df[\"bounding_boxes\"] = bounding_boxes"
   ]
  },
  {
   "cell_type": "code",
   "execution_count": 103,
   "metadata": {
    "collapsed": false
   },
   "outputs": [],
   "source": [
    "# Guardar el DataFrame resultante en un nuevo archivo CSV\n",
    "output_csv_file = PATH + \"Data/CSVs/dataset_caltech_bb.csv\"\n",
    "# Quotes are added to strings column in case they contain the delimiter character (or other CSV formatting characters). -> boundingboxes with \"\n",
    "df.to_csv(output_csv_file, index=False)"
   ]
  }
 ],
 "metadata": {
  "kernelspec": {
   "display_name": "Python 3",
   "language": "python",
   "name": "python3"
  },
  "language_info": {
   "codemirror_mode": {
    "name": "ipython",
    "version": 3
   },
   "file_extension": ".py",
   "mimetype": "text/x-python",
   "name": "python",
   "nbconvert_exporter": "python",
   "pygments_lexer": "ipython3",
   "version": "3.8.17"
  }
 },
 "nbformat": 4,
 "nbformat_minor": 0
}
