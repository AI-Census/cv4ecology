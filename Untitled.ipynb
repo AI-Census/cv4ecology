{
 "cells": [
  {
   "cell_type": "code",
   "execution_count": 4,
   "id": "ffcf24fe",
   "metadata": {},
   "outputs": [
    {
     "name": "stdout",
     "output_type": "stream",
     "text": [
      "pygame 2.5.0 (SDL 2.28.0, Python 3.10.4)\n",
      "Hello from the pygame community. https://www.pygame.org/contribute.html\n"
     ]
    }
   ],
   "source": [
    "import os\n",
    "import cv2\n",
    "import json\n",
    "import pygame\n",
    "import numpy as np\n",
    "import matplotlib.pyplot as plt"
   ]
  },
  {
   "cell_type": "code",
   "execution_count": 5,
   "id": "324ef53c",
   "metadata": {},
   "outputs": [],
   "source": [
    "# Ruta de la carpeta de imágenes\n",
    "PATH = \"Dataset/\""
   ]
  },
  {
   "cell_type": "code",
   "execution_count": 6,
   "id": "6c587f49",
   "metadata": {},
   "outputs": [],
   "source": [
    "# Cargar el archivo JSON\n",
    "with open('output_actualizado.json') as f:\n",
    "    data = json.load(f)"
   ]
  },
  {
   "cell_type": "code",
   "execution_count": 7,
   "id": "bc0244a6",
   "metadata": {},
   "outputs": [],
   "source": [
    "# Obtener la lista de imágenes del JSON\n",
    "images = data['images']\n",
    "num_images = len(images)"
   ]
  },
  {
   "cell_type": "code",
   "execution_count": 8,
   "id": "ebf19c32",
   "metadata": {},
   "outputs": [],
   "source": [
    "# Variables para controlar la visualización\n",
    "current_image_index = 0\n",
    "delete_bbox = False\n",
    "deleted_bbox = []"
   ]
  },
  {
   "cell_type": "code",
   "execution_count": 9,
   "id": "a254dba1",
   "metadata": {},
   "outputs": [],
   "source": [
    "# Función para dibujar las bounding boxes en la imagen\n",
    "def draw_bounding_boxes(image, detections):\n",
    "    for detection in detections:\n",
    "        bbox = detection['bbox']\n",
    "        x = int(bbox[0] * image.shape[1])\n",
    "        y = int(bbox[1] * image.shape[0])\n",
    "        w = int(bbox[2] * image.shape[1])\n",
    "        h = int(bbox[3] * image.shape[0])\n",
    "        category = detection['category']\n",
    "        color = (0, 255, 0) if category != '1' else (255, 0, 0)\n",
    "        cv2.rectangle(image, (x, y), (x + w, y + h), color, 2)\n",
    "    return image"
   ]
  },
  {
   "cell_type": "code",
   "execution_count": 10,
   "id": "72f2ef39",
   "metadata": {
    "scrolled": true
   },
   "outputs": [
    {
     "ename": "KeyboardInterrupt",
     "evalue": "",
     "output_type": "error",
     "traceback": [
      "\u001b[1;31m---------------------------------------------------------------------------\u001b[0m",
      "\u001b[1;31mKeyboardInterrupt\u001b[0m                         Traceback (most recent call last)",
      "\u001b[1;32mc:\\Users\\albam\\OneDrive - UNIVERSIDAD DE HUELVA\\5. Caltech\\Untitled.ipynb Cell 7\u001b[0m in \u001b[0;36m4\n\u001b[0;32m     <a href='vscode-notebook-cell:/c%3A/Users/albam/OneDrive%20-%20UNIVERSIDAD%20DE%20HUELVA/5.%20Caltech/Untitled.ipynb#W6sZmlsZQ%3D%3D?line=35'>36</a>\u001b[0m image_rgb \u001b[39m=\u001b[39m cv2\u001b[39m.\u001b[39mcvtColor(image_with_boxes, cv2\u001b[39m.\u001b[39mCOLOR_BGR2RGB)\n\u001b[0;32m     <a href='vscode-notebook-cell:/c%3A/Users/albam/OneDrive%20-%20UNIVERSIDAD%20DE%20HUELVA/5.%20Caltech/Untitled.ipynb#W6sZmlsZQ%3D%3D?line=37'>38</a>\u001b[0m \u001b[39m#image_rotated = np.rot90(image_rgb, k=1)\u001b[39;00m\n\u001b[1;32m---> <a href='vscode-notebook-cell:/c%3A/Users/albam/OneDrive%20-%20UNIVERSIDAD%20DE%20HUELVA/5.%20Caltech/Untitled.ipynb#W6sZmlsZQ%3D%3D?line=39'>40</a>\u001b[0m image_surface \u001b[39m=\u001b[39m pygame\u001b[39m.\u001b[39;49msurfarray\u001b[39m.\u001b[39;49mmake_surface(np\u001b[39m.\u001b[39;49mrot90(np\u001b[39m.\u001b[39;49mfliplr(image_rgb)))\n\u001b[0;32m     <a href='vscode-notebook-cell:/c%3A/Users/albam/OneDrive%20-%20UNIVERSIDAD%20DE%20HUELVA/5.%20Caltech/Untitled.ipynb#W6sZmlsZQ%3D%3D?line=40'>41</a>\u001b[0m \u001b[39m#image_surface = pygame.surfarray.make_surface(image_rgb)\u001b[39;00m\n\u001b[0;32m     <a href='vscode-notebook-cell:/c%3A/Users/albam/OneDrive%20-%20UNIVERSIDAD%20DE%20HUELVA/5.%20Caltech/Untitled.ipynb#W6sZmlsZQ%3D%3D?line=41'>42</a>\u001b[0m screen\u001b[39m.\u001b[39mblit(image_surface, (\u001b[39m0\u001b[39m, \u001b[39m0\u001b[39m))\n",
      "\u001b[1;31mKeyboardInterrupt\u001b[0m: "
     ]
    }
   ],
   "source": [
    "# Inicializar Pygame\n",
    "pygame.init()\n",
    "\n",
    "# Leer el número de imagen desde el archivo de texto\n",
    "if os.path.exists('progreso.txt'):\n",
    "    with open('progreso.txt', 'r') as file:\n",
    "        current_image_number = int(file.read())\n",
    "else:\n",
    "    current_image_number = 0\n",
    "\n",
    "# Establecer el número de imagen actual\n",
    "current_image_index = current_image_number\n",
    "\n",
    "# Crear la ventana\n",
    "screen = pygame.display.set_mode((2400, 1350))\n",
    "pygame.display.set_caption('Visualizador de imágenes')\n",
    "\n",
    "# Bucle principal\n",
    "running = True\n",
    "while running:\n",
    "    # Obtener la imagen actual\n",
    "    current_image = images[current_image_index]\n",
    "    file = current_image['file']\n",
    "    detections = current_image['detections']\n",
    "\n",
    "    # Construir la ruta completa de la imagen\n",
    "    image_path = os.path.join(PATH, file)\n",
    "\n",
    "    # Cargar la imagen con OpenCV\n",
    "    image = cv2.imread(image_path)\n",
    "\n",
    "    # Dibujar las bounding boxes en la imagen\n",
    "    image_with_boxes = draw_bounding_boxes(image, detections)\n",
    "\n",
    "    # Mostrar la imagen en la ventana de Pygame\n",
    "    image_rgb = cv2.cvtColor(image_with_boxes, cv2.COLOR_BGR2RGB)\n",
    "    \n",
    "    #image_rotated = np.rot90(image_rgb, k=1)\n",
    "    \n",
    "    image_surface = pygame.surfarray.make_surface(np.rot90(np.fliplr(image_rgb)))\n",
    "    #image_surface = pygame.surfarray.make_surface(image_rgb)\n",
    "    screen.blit(image_surface, (0, 0))\n",
    "    pygame.display.flip()\n",
    "\n",
    "    # Variables para controlar la restauración del último elemento eliminado\n",
    "    restored_bbox = None\n",
    "\n",
    "    # Esperar eventos\n",
    "    for event in pygame.event.get():\n",
    "        if event.type == pygame.QUIT:\n",
    "            running = False\n",
    "        elif event.type == pygame.KEYDOWN:\n",
    "            if event.key == pygame.K_LEFT:\n",
    "                current_image_index = (current_image_index - 1) % num_images\n",
    "            elif event.key == pygame.K_RIGHT:\n",
    "                current_image_index = (current_image_index + 1) % num_images\n",
    "            elif event.key == pygame.K_x:\n",
    "                delete_bbox = True\n",
    "            elif event.key == pygame.K_z:\n",
    "                # Restaurar el último elemento eliminado\n",
    "                if deleted_bbox:\n",
    "                    restored_bbox = deleted_bbox.pop()\n",
    "            elif event.key == pygame.K_s:\n",
    "                # Guardar el archivo JSON actualizado\n",
    "                with open('output_actualizado.json', 'w') as f:\n",
    "                    json.dump(data, f, indent=2)\n",
    "\n",
    "                # Actualizar el número de imagen en el archivo de progreso\n",
    "                with open('progreso.txt', 'w') as file:\n",
    "                    file.write(str(current_image_index))\n",
    "        elif event.type == pygame.MOUSEBUTTONDOWN and delete_bbox:\n",
    "            # Obtener las coordenadas del ratón\n",
    "            x, y = event.pos\n",
    "\n",
    "            # Normalizar las coordenadas del ratón\n",
    "            x_norm = x / screen.get_width()\n",
    "            y_norm = y / screen.get_height()\n",
    "\n",
    "            # Buscar la bounding box más cercana a las coordenadas del ratón\n",
    "            min_distance = float('inf')\n",
    "            min_index = None\n",
    "            for i, detection in enumerate(detections):\n",
    "                bbox = detection['bbox']\n",
    "                bbox_x = bbox[0] + bbox[2] / 2\n",
    "                bbox_y = bbox[1] + bbox[3] / 2\n",
    "                distance = (x_norm - bbox_x) ** 2 + (y_norm - bbox_y) ** 2\n",
    "                if distance < min_distance:\n",
    "                    min_distance = distance\n",
    "                    min_index = i\n",
    "\n",
    "            # Eliminar la bounding box seleccionada del JSON\n",
    "            deleted_bbox.append(detections.pop(min_index))\n",
    "            delete_bbox = False\n",
    "\n",
    "    # Restaurar el último elemento eliminado\n",
    "    if restored_bbox:\n",
    "        detections.append(restored_bbox)\n",
    "        restored_bbox = None\n",
    "\n",
    "\n",
    "# Cerrar Pygame\n",
    "pygame.quit()"
   ]
  },
  {
   "cell_type": "code",
   "execution_count": null,
   "id": "64e4e47a",
   "metadata": {},
   "outputs": [],
   "source": []
  },
  {
   "cell_type": "code",
   "execution_count": null,
   "id": "42eeb7d8",
   "metadata": {},
   "outputs": [],
   "source": []
  }
 ],
 "metadata": {
  "kernelspec": {
   "display_name": "Python 3 (ipykernel)",
   "language": "python",
   "name": "python3"
  },
  "language_info": {
   "codemirror_mode": {
    "name": "ipython",
    "version": 3
   },
   "file_extension": ".py",
   "mimetype": "text/x-python",
   "name": "python",
   "nbconvert_exporter": "python",
   "pygments_lexer": "ipython3",
   "version": "3.10.4"
  }
 },
 "nbformat": 4,
 "nbformat_minor": 5
}
