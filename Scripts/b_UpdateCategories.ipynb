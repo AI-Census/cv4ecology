{
 "cells": [
  {
   "cell_type": "code",
   "execution_count": 41,
   "metadata": {
    "collapsed": true,
    "ExecuteTime": {
     "end_time": "2023-07-26T16:21:54.794175300Z",
     "start_time": "2023-07-26T16:21:54.777659900Z"
    }
   },
   "outputs": [],
   "source": [
    "import pandas as pd\n",
    "import json"
   ]
  },
  {
   "cell_type": "code",
   "execution_count": 42,
   "outputs": [],
   "source": [
    "# Diccionario para mapear los números de categoría a las clases correspondientes\n",
    "category_to_class = {\n",
    "    0: \"bird\",\n",
    "    1: \"cow\",\n",
    "    2: \"domestic dog\",\n",
    "    3: \"egyptian mongoose\",\n",
    "    4: \"empty\",\n",
    "    5: \"european badger\",\n",
    "    6: \"european rabbit\",\n",
    "    7: \"fallow deer\",\n",
    "    8: \"genet\",\n",
    "    9: \"horse\",\n",
    "    10: \"human\",\n",
    "    11: \"iberian hare\",\n",
    "    12: \"iberian lynx\",\n",
    "    13: \"red deer\",\n",
    "    14: \"red fox\",\n",
    "    15: \"wild boar\"\n",
    "}"
   ],
   "metadata": {
    "collapsed": false,
    "ExecuteTime": {
     "end_time": "2023-07-26T16:21:55.188473Z",
     "start_time": "2023-07-26T16:21:55.179332200Z"
    }
   }
  },
  {
   "cell_type": "code",
   "execution_count": 43,
   "outputs": [],
   "source": [
    "# Paso 1: Leer el archivo CSV y crear el diccionario de mapeo\n",
    "csv_file_path = \"dataset_caltech.csv\"\n",
    "df_csv = pd.read_csv(csv_file_path)"
   ],
   "metadata": {
    "collapsed": false,
    "ExecuteTime": {
     "end_time": "2023-07-26T16:21:55.890283500Z",
     "start_time": "2023-07-26T16:21:55.833932500Z"
    }
   }
  },
  {
   "cell_type": "code",
   "execution_count": 44,
   "outputs": [],
   "source": [
    "mapping_dict = dict(zip(df_csv['path'], df_csv['class']))"
   ],
   "metadata": {
    "collapsed": false,
    "ExecuteTime": {
     "end_time": "2023-07-26T16:21:56.322343700Z",
     "start_time": "2023-07-26T16:21:56.285499200Z"
    }
   }
  },
  {
   "cell_type": "code",
   "execution_count": 45,
   "outputs": [],
   "source": [
    "# Paso 2: Leer el archivo JSON y actualizar las categorías y la confianza\n",
    "json_file_path = \"output_actualizado.json\""
   ],
   "metadata": {
    "collapsed": false,
    "ExecuteTime": {
     "end_time": "2023-07-26T16:21:56.716061Z",
     "start_time": "2023-07-26T16:21:56.687547300Z"
    }
   }
  },
  {
   "cell_type": "code",
   "execution_count": 46,
   "outputs": [],
   "source": [
    "with open(json_file_path, \"r\") as json_file:\n",
    "    json_data = json.load(json_file)"
   ],
   "metadata": {
    "collapsed": false,
    "ExecuteTime": {
     "end_time": "2023-07-26T16:21:57.372867700Z",
     "start_time": "2023-07-26T16:21:57.080455800Z"
    }
   }
  },
  {
   "cell_type": "code",
   "execution_count": 47,
   "outputs": [],
   "source": [
    "for image in json_data[\"images\"]:\n",
    "    file_path = image[\"file\"]\n",
    "    if file_path in mapping_dict:\n",
    "        class_name = mapping_dict[file_path]\n",
    "        category_number = [k for k, v in category_to_class.items() if v == class_name][0]\n",
    "\n",
    "        # Actualizar las categorías y confianza\n",
    "        for detection in image[\"detections\"]:\n",
    "            detection[\"category\"] = str(category_number)\n",
    "            if detection[\"conf\"] == 0.0:\n",
    "                detection[\"conf\"] = 100.0"
   ],
   "metadata": {
    "collapsed": false,
    "ExecuteTime": {
     "end_time": "2023-07-26T16:21:58.056101700Z",
     "start_time": "2023-07-26T16:21:57.956085800Z"
    }
   }
  },
  {
   "cell_type": "code",
   "execution_count": 48,
   "outputs": [
    {
     "name": "stdout",
     "output_type": "stream",
     "text": [
      "JSON actualizado con categorías y confianza cambiada guardado con éxito.\n"
     ]
    }
   ],
   "source": [
    "# Paso 3: Guardar el JSON actualizado en un nuevo archivo con indentación y saltos de línea\n",
    "updated_json_file_path = \"output_actualizado_con_categorias.json\"\n",
    "with open(updated_json_file_path, \"w\") as updated_json_file:\n",
    "    json.dump(json_data, updated_json_file, indent=2)\n",
    "\n",
    "print(\"JSON actualizado con categorías y confianza cambiada guardado con éxito.\")"
   ],
   "metadata": {
    "collapsed": false,
    "ExecuteTime": {
     "end_time": "2023-07-26T16:22:00.813334600Z",
     "start_time": "2023-07-26T16:21:59.227403900Z"
    }
   }
  }
 ],
 "metadata": {
  "kernelspec": {
   "display_name": "Python 3",
   "language": "python",
   "name": "python3"
  },
  "language_info": {
   "codemirror_mode": {
    "name": "ipython",
    "version": 2
   },
   "file_extension": ".py",
   "mimetype": "text/x-python",
   "name": "python",
   "nbconvert_exporter": "python",
   "pygments_lexer": "ipython2",
   "version": "2.7.6"
  }
 },
 "nbformat": 4,
 "nbformat_minor": 0
}
