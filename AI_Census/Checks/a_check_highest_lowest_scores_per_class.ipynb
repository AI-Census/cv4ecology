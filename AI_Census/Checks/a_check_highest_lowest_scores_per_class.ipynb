{
 "cells": [
  {
   "cell_type": "markdown",
   "metadata": {},
   "source": [
    "# Check scores"
   ]
  },
  {
   "cell_type": "markdown",
   "metadata": {},
   "source": [
    "### Setup"
   ]
  },
  {
   "cell_type": "markdown",
   "metadata": {},
   "source": [
    "#### Libraries"
   ]
  },
  {
   "cell_type": "code",
   "execution_count": 1,
   "metadata": {},
   "outputs": [],
   "source": [
    "import json\n",
    "import pandas as pd"
   ]
  },
  {
   "cell_type": "markdown",
   "metadata": {},
   "source": [
    "#### Constants"
   ]
  },
  {
   "cell_type": "code",
   "execution_count": 2,
   "metadata": {},
   "outputs": [],
   "source": [
    "EXPERIMENT_NAME = \"1_exp_batch_16\""
   ]
  },
  {
   "cell_type": "code",
   "execution_count": 3,
   "metadata": {},
   "outputs": [],
   "source": [
    "# Read JSON content from the file\n",
    "predictions_file_path = \"../Trainings/YOLOv8/\" + EXPERIMENT_NAME + \"/predictions.json\"\n",
    "\n",
    "predictions_file_path = \"../../runs/detect/val/predictions.json\"\n",
    "\n",
    "with open(predictions_file_path, 'r') as f:\n",
    "    predictions_file_content = f.read()\n",
    "\n",
    "# Sample JSON content in the predictions_file variable\n",
    "'''\n",
    "[\n",
    "    {\"image_id\": \"40_20201024 (1)\", \"category_id\": 9, \"bbox\": [867.187, 2.109, 478.125, 907.266], \"score\": 0.95459},\n",
    "    {\"image_id\": \"40_20201024 (1)\", \"category_id\": 9, \"bbox\": [2103.75, 2.812, 296.25, 1096.875], \"score\": 0.93457},\n",
    "    {\"image_id\": \"40_20201024 (1)\", \"category_id\": 2, \"bbox\": [2340.0, 390.937, 60.0, 532.5], \"score\": 0.00797},\n",
    "    {\"image_id\": \"40_20201024 (1)\", \"category_id\": 2, \"bbox\": [2317.5, 456.562, 82.5, 423.75], \"score\": 0.00455},\n",
    "    {\"image_id\": \"40_20201024 (1)\", \"category_id\": 2, \"bbox\": [2231.25, 492.187, 168.75, 384.375], \"score\": 0.002},\n",
    "    {\"image_id\": \"40_20201024 (1)\", \"category_id\": 2, \"bbox\": [2351.25, 290.625, 48.75, 658.125], \"score\": 0.00172}\n",
    "]\n",
    "'''\n",
    "\n",
    "# Load JSON content\n",
    "predictions = json.loads(predictions_file_content)"
   ]
  },
  {
   "cell_type": "markdown",
   "metadata": {},
   "source": [
    "#### Init Variables"
   ]
  },
  {
   "cell_type": "markdown",
   "metadata": {},
   "source": [
    "## Check highest score for each class"
   ]
  },
  {
   "cell_type": "code",
   "execution_count": 4,
   "metadata": {},
   "outputs": [
    {
     "name": "stdout",
     "output_type": "stream",
     "text": [
      "Image ID: 10_20211001 (670), Category ID: 0, Score: 0.88008\n",
      "Image ID: 53_20220810 (364), Category ID: 1, Score: 0.96944\n",
      "No entry found for category_id = 2\n",
      "Image ID: 11_20230223 (791), Category ID: 3, Score: 0.92389\n",
      "Image ID: 11_20230125 (180), Category ID: 4, Score: 0.95378\n",
      "Image ID: 17_20211116 (1522), Category ID: 5, Score: 0.88932\n",
      "Image ID: 9_20220919 (456), Category ID: 6, Score: 0.97446\n",
      "Image ID: 47_20210406 (131), Category ID: 7, Score: 0.98353\n",
      "Image ID: 38_20221214 (190), Category ID: 8, Score: 0.97483\n",
      "Image ID: 46_20221124 (1422), Category ID: 9, Score: 0.97728\n",
      "Image ID: 11_20211022 (119), Category ID: 10, Score: 0.94881\n",
      "Image ID: 25_20230303 (698), Category ID: 11, Score: 0.77529\n",
      "Image ID: 4_20211003 (1568), Category ID: 12, Score: 0.97409\n",
      "Image ID: 2_20230201 (2782), Category ID: 13, Score: 0.96982\n",
      "Image ID: 21_20221201 (1268), Category ID: 14, Score: 0.96802\n"
     ]
    }
   ],
   "source": [
    "# Iterate through predictions to find the highest score for category_id = 2\n",
    "for category_id in range(0,15):\n",
    "    # Initialize variables to store the highest score and relevant information\n",
    "    highest_score = 0\n",
    "    best_entry = None\n",
    "\n",
    "    for entry in predictions:\n",
    "        if entry[\"category_id\"] == category_id and entry[\"score\"] > highest_score:\n",
    "            highest_score = entry[\"score\"]\n",
    "            best_entry = entry\n",
    "\n",
    "    # Print the image_id, category_id, and score of the best entry\n",
    "    if best_entry:\n",
    "        image_id = best_entry[\"image_id\"]\n",
    "        category_id = best_entry[\"category_id\"]\n",
    "        score = best_entry[\"score\"]\n",
    "        print(f\"Image ID: {image_id}, Category ID: {category_id}, Score: {score:.5f}\")\n",
    "    else:\n",
    "        print(\"No entry found for category_id = \" + str(category_id))"
   ]
  },
  {
   "cell_type": "markdown",
   "metadata": {},
   "source": [
    "## Check lowest score for each class"
   ]
  },
  {
   "cell_type": "code",
   "execution_count": 5,
   "metadata": {},
   "outputs": [
    {
     "name": "stdout",
     "output_type": "stream",
     "text": [
      "Image ID: 10_20211001 (670), Category ID: 0, Score: 0.52487\n",
      "Image ID: 75_20221218 (770), Category ID: 1, Score: 0.50270\n",
      "No entry found for category_id = 2\n",
      "Image ID: 24_20221009 (559), Category ID: 3, Score: 0.51061\n",
      "Image ID: 54_20221215 (1252), Category ID: 4, Score: 0.80955\n",
      "Image ID: 20_20211020 (547), Category ID: 5, Score: 0.57950\n",
      "Image ID: 9_20221010 (1820), Category ID: 6, Score: 0.50643\n",
      "Image ID: 47_20210829 (602), Category ID: 7, Score: 0.92752\n",
      "Image ID: 67_20230225 (8458), Category ID: 8, Score: 0.50056\n",
      "Image ID: 48_20221124 (556), Category ID: 9, Score: 0.50668\n",
      "Image ID: 4_20211014 (1162), Category ID: 10, Score: 0.59003\n",
      "Image ID: 25_20230303 (698), Category ID: 11, Score: 0.77529\n",
      "Image ID: 4_20221204 (1308), Category ID: 12, Score: 0.50593\n",
      "Image ID: 10_20221218 (2682), Category ID: 13, Score: 0.50099\n",
      "Image ID: 80_20220827 (1537), Category ID: 14, Score: 0.50251\n"
     ]
    }
   ],
   "source": [
    "# Iterate through predictions to find the highest score for category_id = 2\n",
    "for category_id in range(0,15):\n",
    "    # Initialize variables to store the highest score and relevant information\n",
    "    lowest_score = float(\"inf\")\n",
    "    worst_entry = None\n",
    "\n",
    "    for entry in predictions:\n",
    "        if entry[\"category_id\"] == category_id and entry[\"score\"] < lowest_score:\n",
    "            lowest_score = entry[\"score\"]\n",
    "            worst_entry = entry\n",
    "\n",
    "    # Print the image_id, category_id, and score of the best entry\n",
    "    if worst_entry:\n",
    "        image_id = worst_entry[\"image_id\"]\n",
    "        category_id = worst_entry[\"category_id\"]\n",
    "        score = worst_entry[\"score\"]\n",
    "        print(f\"Image ID: {image_id}, Category ID: {category_id}, Score: {score:.5f}\")\n",
    "    else:\n",
    "        print(\"No entry found for category_id = \" + str(category_id))"
   ]
  }
 ],
 "metadata": {
  "kernelspec": {
   "display_name": "cv4ecology",
   "language": "python",
   "name": "python3"
  },
  "language_info": {
   "codemirror_mode": {
    "name": "ipython",
    "version": 3
   },
   "file_extension": ".py",
   "mimetype": "text/x-python",
   "name": "python",
   "nbconvert_exporter": "python",
   "pygments_lexer": "ipython3",
   "version": "3.8.17"
  },
  "orig_nbformat": 4
 },
 "nbformat": 4,
 "nbformat_minor": 2
}
