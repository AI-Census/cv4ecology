{
 "cells": [
  {
   "cell_type": "code",
   "execution_count": 1,
   "metadata": {},
   "outputs": [],
   "source": [
    "import os\n",
    "import pandas as pd\n",
    "import unittest"
   ]
  },
  {
   "cell_type": "code",
   "execution_count": 2,
   "metadata": {},
   "outputs": [],
   "source": [
    "# Define the paths to CSVs and TXTs\n",
    "PATH = \"../\"\n",
    "train_csv_path = PATH + 'Data/CSVs/train_dataset_caltech.csv'\n",
    "val_csv_path = PATH + 'Data/CSVs/validation_dataset_caltech.csv'\n",
    "test_csv_path = PATH + 'Data/CSVs/test_dataset_caltech.csv'\n",
    "\n",
    "train_txt_path = PATH + 'Data/TXTs/train_dataset_caltech.txt'\n",
    "val_txt_path = PATH + 'Data/TXTs/validation_dataset_caltech.txt'\n",
    "test_txt_path = PATH + 'Data/TXTs/test_dataset_caltech.txt'"
   ]
  },
  {
   "cell_type": "code",
   "execution_count": 3,
   "metadata": {},
   "outputs": [],
   "source": [
    "# Function to extract image paths from a CSV and save them to a TXT file\n",
    "def save_image_paths_to_txt(csv_path, txt_path):\n",
    "    df = pd.read_csv(csv_path)\n",
    "    image_paths = df['path'].tolist()\n",
    "    \n",
    "    with open(txt_path, 'w') as txt_file:\n",
    "        for image_path in image_paths:\n",
    "            txt_file.write(image_path + '\\n')\n",
    "\n",
    "# Save image paths to TXT files\n",
    "save_image_paths_to_txt(train_csv_path, train_txt_path)\n",
    "save_image_paths_to_txt(val_csv_path, val_txt_path)\n",
    "save_image_paths_to_txt(test_csv_path, test_txt_path)"
   ]
  },
  {
   "cell_type": "markdown",
   "metadata": {},
   "source": [
    "# Test (by ChatGPT)"
   ]
  },
  {
   "cell_type": "code",
   "execution_count": 4,
   "metadata": {},
   "outputs": [
    {
     "name": "stderr",
     "output_type": "stream",
     "text": [
      "test_test_image_paths (__main__.TestImagePaths) ... ok\n",
      "test_train_image_paths (__main__.TestImagePaths) ... ok\n",
      "test_validation_image_paths (__main__.TestImagePaths) ... ok\n",
      "\n",
      "----------------------------------------------------------------------\n",
      "Ran 3 tests in 0.053s\n",
      "\n",
      "OK\n"
     ]
    },
    {
     "data": {
      "text/plain": [
       "<unittest.runner.TextTestResult run=3 errors=0 failures=0>"
      ]
     },
     "execution_count": 4,
     "metadata": {},
     "output_type": "execute_result"
    }
   ],
   "source": [
    "class TestImagePaths(unittest.TestCase):\n",
    "    def compare_paths(self, csv_path, txt_path):\n",
    "        # Read CSV and TXT files\n",
    "        df_csv = pd.read_csv(csv_path)\n",
    "        with open(txt_path, 'r') as txt_file:\n",
    "            txt_paths = txt_file.read().splitlines()\n",
    "\n",
    "        # Get unique paths\n",
    "        csv_paths_unique = set(df_csv['path'])\n",
    "        txt_paths_unique = set(txt_paths)\n",
    "\n",
    "        # Compare paths\n",
    "        self.assertEqual(len(csv_paths_unique), len(txt_paths_unique))\n",
    "        self.assertEqual(csv_paths_unique, txt_paths_unique)\n",
    "\n",
    "    def test_train_image_paths(self):\n",
    "        self.compare_paths(train_csv_path, train_txt_path)\n",
    "\n",
    "    def test_validation_image_paths(self):\n",
    "        self.compare_paths(val_csv_path, val_txt_path)\n",
    "\n",
    "    def test_test_image_paths(self):\n",
    "        self.compare_paths(test_csv_path, test_txt_path)\n",
    "\n",
    "# Create a test suite and run it within Jupyter Notebook\n",
    "suite = unittest.TestLoader().loadTestsFromTestCase(TestImagePaths)\n",
    "unittest.TextTestRunner(verbosity=2).run(suite)"
   ]
  }
 ],
 "metadata": {
  "kernelspec": {
   "display_name": "otherstuffystuff",
   "language": "python",
   "name": "python3"
  },
  "language_info": {
   "codemirror_mode": {
    "name": "ipython",
    "version": 3
   },
   "file_extension": ".py",
   "mimetype": "text/x-python",
   "name": "python",
   "nbconvert_exporter": "python",
   "pygments_lexer": "ipython3",
   "version": "3.8.17"
  },
  "orig_nbformat": 4
 },
 "nbformat": 4,
 "nbformat_minor": 2
}
