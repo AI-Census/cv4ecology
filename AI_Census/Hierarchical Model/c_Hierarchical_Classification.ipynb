{
 "cells": [
  {
   "cell_type": "markdown",
   "metadata": {},
   "source": [
    "# Data Visualization"
   ]
  },
  {
   "cell_type": "markdown",
   "metadata": {},
   "source": [
    "## Libraries"
   ]
  },
  {
   "cell_type": "code",
   "execution_count": 160,
   "metadata": {},
   "outputs": [],
   "source": [
    "import pandas as pd\n",
    "import matplotlib.pyplot as plt\n",
    "import matplotlib.patches as patches\n",
    "from PIL import Image\n",
    "import random\n",
    "import json"
   ]
  },
  {
   "cell_type": "markdown",
   "metadata": {},
   "source": [
    "## Constants"
   ]
  },
  {
   "cell_type": "code",
   "execution_count": 161,
   "metadata": {},
   "outputs": [],
   "source": [
    "PATH = \"../../\"\n",
    "IMAGES_PATH = PATH + \"Dataset/images/\"\n",
    "\n",
    "csv_file = PATH + \"Data/CSVs/dataset_caltech_yolo.csv\"\n",
    "\n",
    "predictions_file = PATH + \"predictions.json\"\n",
    "\n",
    "new_predictions_file = PATH + \"new_predictions.json\""
   ]
  },
  {
   "cell_type": "code",
   "execution_count": 162,
   "metadata": {},
   "outputs": [],
   "source": [
    "species_mapping = {\n",
    "    0: \"bird\",\n",
    "    1: \"cow\",\n",
    "    2: \"domestic dog\",\n",
    "    3: \"egyptian mongoose\",\n",
    "    4: \"european badger\",\n",
    "    5: \"european rabbit\",\n",
    "    6: \"fallow deer\",\n",
    "    7: \"genet\",\n",
    "    8: \"horse\",\n",
    "    9: \"human\",\n",
    "    10: \"iberian hare\",\n",
    "    11: \"iberian lynx\",\n",
    "    12: \"red deer\",\n",
    "    13: \"red fox\",\n",
    "    14: \"wild boar\",\n",
    "\n",
    "    213: \"canidae\",\n",
    "    510: \"leporid\",\n",
    "    612: \"cervid\"\n",
    "}\n",
    "\n",
    "inverted_species_mapping = {value: key for key, value in species_mapping.items()}\n",
    "\n",
    "family_mapping = {\n",
    "    \"bird\": \"\",\n",
    "    \"cow\": \"\",\n",
    "    \"domestic dog\": \"canidae\",\n",
    "    \"egyptian mongoose\": \"\",\n",
    "    \"european badger\": \"\",\n",
    "    \"european rabbit\": \"leporid\",\n",
    "    \"fallow deer\": \"cervid\",\n",
    "    \"genet\": \"\",\n",
    "    \"horse\": \"\",\n",
    "    \"human\": \"\",\n",
    "    \"iberian hare\": \"leporid\",\n",
    "    \"iberian lynx\": \"\",\n",
    "    \"red deer\": \"cervid\",\n",
    "    \"red fox\": \"canidae\",\n",
    "    \"wild boar\": \"\",\n",
    "}\n",
    "\n",
    "# Create the inverted dictionary\n",
    "inverted_family_mapping = {}\n",
    "for key, value in family_mapping.items():\n",
    "    if value:\n",
    "        if value not in inverted_family_mapping:\n",
    "            inverted_family_mapping[value] = [key]\n",
    "        else:\n",
    "            inverted_family_mapping[value].append(key)"
   ]
  },
  {
   "cell_type": "code",
   "execution_count": 163,
   "metadata": {},
   "outputs": [],
   "source": [
    "def get_species_names_from_family_names(family_name):\n",
    "    return inverted_family_mapping[family_name]\n",
    "\n",
    "def get_specie_id_from_specie_name(specie_name):\n",
    "    return inverted_species_mapping[specie_name]\n",
    "\n",
    "def get_specie_name_from_specie_id(specie_id):\n",
    "    return species_mapping[specie_id]\n",
    "\n",
    "def get_family_name_from_specie_id(specie_id): # get_family_name_from_specie_id(12)\n",
    "    return family_mapping[species_mapping[specie_id]]\n",
    "\n",
    "def get_family_id_from_specie_id(specie_id): # get_family_name_from_specie_id(12)\n",
    "    return inverted_species_mapping[family_mapping[species_mapping[specie_id]]]\n",
    "\n",
    "def get_family_name_from_family_id(family_id):\n",
    "    return species_mapping[family_id]"
   ]
  },
  {
   "cell_type": "code",
   "execution_count": 164,
   "metadata": {},
   "outputs": [],
   "source": [
    "# Load the files\n",
    "df = pd.read_csv(csv_file)\n",
    "\n",
    "with open(predictions_file, \"r\") as f:\n",
    "    predictions = json.load(f)"
   ]
  },
  {
   "cell_type": "code",
   "execution_count": 165,
   "metadata": {},
   "outputs": [],
   "source": [
    "# Process each prediction and update the category_id and original_category_id\n",
    "for prediction in predictions:\n",
    "    species_index = prediction['category_id']\n",
    "    species = species_mapping.get(species_index)\n",
    "    \n",
    "    if species is not None:\n",
    "        # Determine if the species should be updated based on activation threshold\n",
    "        if max(prediction['activations']) < 0.75:\n",
    "            family = family_mapping.get(species)\n",
    "            if family:\n",
    "                species = family\n",
    "                family_index = next(key for key, value in species_mapping.items() if value == family)  # Find the key for the family in species_mapping\n",
    "    \n",
    "                # Update category_id and original_category_id\n",
    "                prediction['original_category_id'] = species_index\n",
    "                prediction['category_id'] = family_index"
   ]
  },
  {
   "cell_type": "code",
   "execution_count": 166,
   "metadata": {},
   "outputs": [],
   "source": [
    "# Save the modified predictions to a new JSON file\n",
    "with open(new_predictions_file, 'w') as f:\n",
    "    json.dump(predictions, f, indent=4)"
   ]
  },
  {
   "cell_type": "code",
   "execution_count": 167,
   "metadata": {},
   "outputs": [
    {
     "name": "stdout",
     "output_type": "stream",
     "text": [
      "Clasificación final: cervid (fallow deer)\n"
     ]
    }
   ],
   "source": [
    "# Image ID\n",
    "target_image_id = \"79_20220701 (284).JPG\"\n",
    "\n",
    "def classify_species_family(item, species_threshold=0.75):\n",
    "    max_activation = max(item['activations'])\n",
    "    max_species_index = item['activations'].index(max_activation)\n",
    "    max_species = species_mapping[max_species_index]\n",
    "    \n",
    "    if max_activation < species_threshold:\n",
    "        family = family_mapping[max_species]\n",
    "        if family != \"\":\n",
    "            max_species = family\n",
    "    \n",
    "    return max_species\n",
    "\n",
    "# Buscar el item con el image_id objetivo\n",
    "target_item = None\n",
    "for item in predictions_data:\n",
    "    if item['image_id'] == target_image_id:\n",
    "        target_item = item\n",
    "        break\n",
    "\n",
    "if target_item is not None:\n",
    "    final_classification = classify_species_family(target_item)\n",
    "    \n",
    "    original_classification = species_mapping[target_item['activations'].index(max(target_item['activations']))]\n",
    "    \n",
    "    if final_classification != original_classification:\n",
    "        final_classification = f\"{final_classification} ({original_classification})\"\n",
    "    \n",
    "    print(\"Clasificación final:\", final_classification)\n",
    "else:\n",
    "    print(f\"No se encontró ningún item con image_id igual a '{target_image_id}'.\")"
   ]
  }
 ],
 "metadata": {
  "kernelspec": {
   "display_name": "otherstuffystuff",
   "language": "python",
   "name": "python3"
  },
  "language_info": {
   "codemirror_mode": {
    "name": "ipython",
    "version": 3
   },
   "file_extension": ".py",
   "mimetype": "text/x-python",
   "name": "python",
   "nbconvert_exporter": "python",
   "pygments_lexer": "ipython3",
   "version": "3.8.17"
  },
  "orig_nbformat": 4
 },
 "nbformat": 4,
 "nbformat_minor": 2
}
