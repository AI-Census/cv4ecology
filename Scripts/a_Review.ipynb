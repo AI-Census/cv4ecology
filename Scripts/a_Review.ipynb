{
 "cells": [
  {
   "cell_type": "code",
   "execution_count": 28,
   "id": "ffcf24fe",
   "metadata": {
    "ExecuteTime": {
     "end_time": "2023-07-26T13:00:27.521825700Z",
     "start_time": "2023-07-26T13:00:27.439609700Z"
    }
   },
   "outputs": [],
   "source": [
    "import os\n",
    "import cv2\n",
    "import json\n",
    "import pygame\n",
    "import numpy as np\n",
    "import csv"
   ]
  },
  {
   "cell_type": "markdown",
   "source": [
    "### Variables"
   ],
   "metadata": {
    "collapsed": false
   }
  },
  {
   "cell_type": "code",
   "execution_count": 29,
   "id": "324ef53c",
   "metadata": {
    "ExecuteTime": {
     "end_time": "2023-07-26T13:00:27.537817300Z",
     "start_time": "2023-07-26T13:00:27.457609600Z"
    }
   },
   "outputs": [],
   "source": [
    "# Ruta de la carpeta de imágenes\n",
    "PATH = \"Dataset/\"\n",
    "\n",
    "IMG_WIDTH = 2400 // 2\n",
    "IMG_HEIGHT = 1350 // 2\n",
    "\n",
    "BLACK = (0, 0, 0)"
   ]
  },
  {
   "cell_type": "code",
   "execution_count": 30,
   "outputs": [],
   "source": [
    "# Variables para controlar la visualización\n",
    "current_image_index = 0\n",
    "delete_bbox = False\n",
    "deleted_bbox = []\n",
    "new_bbox_start = None\n",
    "new_bbox_end = None"
   ],
   "metadata": {
    "collapsed": false,
    "ExecuteTime": {
     "end_time": "2023-07-26T13:00:27.538816500Z",
     "start_time": "2023-07-26T13:00:27.472607Z"
    }
   }
  },
  {
   "cell_type": "markdown",
   "source": [
    "### Cargar JSON"
   ],
   "metadata": {
    "collapsed": false
   }
  },
  {
   "cell_type": "code",
   "execution_count": 31,
   "id": "6c587f49",
   "metadata": {
    "ExecuteTime": {
     "end_time": "2023-07-26T13:00:28.025971500Z",
     "start_time": "2023-07-26T13:00:27.485623Z"
    }
   },
   "outputs": [],
   "source": [
    "# Cargar el archivo JSON\n",
    "with open('output_actualizado.json') as f:\n",
    "    data = json.load(f)"
   ]
  },
  {
   "cell_type": "code",
   "execution_count": 32,
   "id": "bc0244a6",
   "metadata": {
    "ExecuteTime": {
     "end_time": "2023-07-26T13:00:28.026972600Z",
     "start_time": "2023-07-26T13:00:28.026972600Z"
    }
   },
   "outputs": [],
   "source": [
    "# Obtener la lista de imágenes del JSON\n",
    "images = data['images']\n",
    "num_images = len(images)"
   ]
  },
  {
   "cell_type": "markdown",
   "source": [
    "### Cargar CSV (labels)"
   ],
   "metadata": {
    "collapsed": false
   }
  },
  {
   "cell_type": "code",
   "execution_count": 33,
   "outputs": [],
   "source": [
    "# Cargar los datos del archivo CSV en un diccionario\n",
    "labels = {}\n",
    "with open('dataset_caltech.csv', 'r') as csvfile:\n",
    "    reader = csv.DictReader(csvfile)\n",
    "    for row in reader:\n",
    "        file_path = row['path']\n",
    "        label = row['class']\n",
    "        labels[file_path] = label"
   ],
   "metadata": {
    "collapsed": false,
    "ExecuteTime": {
     "end_time": "2023-07-26T13:00:28.081987400Z",
     "start_time": "2023-07-26T13:00:28.027973400Z"
    }
   }
  },
  {
   "cell_type": "markdown",
   "source": [
    "### Funciones auxiliares"
   ],
   "metadata": {
    "collapsed": false
   }
  },
  {
   "cell_type": "code",
   "execution_count": 37,
   "id": "a254dba1",
   "metadata": {
    "ExecuteTime": {
     "end_time": "2023-07-26T13:01:09.321456600Z",
     "start_time": "2023-07-26T13:01:09.273928800Z"
    }
   },
   "outputs": [],
   "source": [
    "def draw_bounding_boxes(image, detections):\n",
    "    for detection in detections:\n",
    "        bbox = detection['bbox']\n",
    "        x = int(bbox[0] * image.shape[1])\n",
    "        y = int(bbox[1] * image.shape[0])\n",
    "        w = int(bbox[2] * image.shape[1])\n",
    "        h = int(bbox[3] * image.shape[0])\n",
    "        category = detection['category']\n",
    "        conf = detection['conf']\n",
    "\n",
    "        if category != '1':\n",
    "            color = (0, 255, 0)  # Verde para otras categorías\n",
    "            conf_color = (0, 0, 0)  # Negro para la confianza\n",
    "        else:\n",
    "            color = (255, 0, 0)  # Rojo para la categoría '1'\n",
    "            conf_color = (255, 255, 255)  # Blanco para la confianza\n",
    "\n",
    "        # Dibujar la bounding box\n",
    "        cv2.rectangle(image, (x, y), (x + w, y + h), color, 2)\n",
    "\n",
    "        # Dibujar el rectángulo de la confianza\n",
    "        conf_text = f'{conf:.2f}'\n",
    "        (text_width, text_height), _ = cv2.getTextSize(conf_text, cv2.FONT_HERSHEY_SIMPLEX, 0.6, 2)\n",
    "        cv2.rectangle(image, (x, y - text_height - 5), (x + text_width + 10, y - 5), color, cv2.FILLED)\n",
    "\n",
    "        # Escribir la confianza encima del rectángulo\n",
    "        cv2.putText(image, conf_text, (x + 5, y - 5), cv2.FONT_HERSHEY_SIMPLEX, 0.6, conf_color, 2)\n",
    "\n",
    "    return image\n"
   ]
  },
  {
   "cell_type": "markdown",
   "source": [
    "### Cargar Progreso"
   ],
   "metadata": {
    "collapsed": false
   }
  },
  {
   "cell_type": "code",
   "execution_count": 38,
   "outputs": [],
   "source": [
    "def cargar_progreso():\n",
    "    # Leer el número de imagen desde el archivo de texto\n",
    "    if os.path.exists('progreso.txt'):\n",
    "        with open('progreso.txt', 'r') as file:\n",
    "            current_image_number = int(file.read())\n",
    "    else:\n",
    "        current_image_number = 0\n",
    "\n",
    "    return current_image_number"
   ],
   "metadata": {
    "collapsed": false,
    "ExecuteTime": {
     "end_time": "2023-07-26T13:01:10.776404800Z",
     "start_time": "2023-07-26T13:01:10.752810300Z"
    }
   }
  },
  {
   "cell_type": "code",
   "execution_count": 39,
   "id": "72f2ef39",
   "metadata": {
    "scrolled": true,
    "ExecuteTime": {
     "end_time": "2023-07-26T13:01:23.222713500Z",
     "start_time": "2023-07-26T13:01:11.932691400Z"
    }
   },
   "outputs": [],
   "source": [
    "# Inicializar Pygame\n",
    "pygame.init()\n",
    "\n",
    "# Variables para escribir texto\n",
    "font = pygame.font.SysFont(None, 48)\n",
    "\n",
    "current_image_number = cargar_progreso()\n",
    "\n",
    "# Establecer el número de imagen actual\n",
    "current_image_index = current_image_number\n",
    "\n",
    "# Crear la ventana\n",
    "screen = pygame.display.set_mode((IMG_WIDTH, IMG_HEIGHT), pygame.RESIZABLE)\n",
    "pygame.display.set_caption('Visualizador de imágenes')\n",
    "\n",
    "# Definir la variable img_label\n",
    "img_label = 'unknown'\n",
    "\n",
    "# Bucle principal\n",
    "running = True\n",
    "while running:\n",
    "    # Obtener la imagen actual\n",
    "    current_image = images[current_image_index]\n",
    "    file = current_image['file']\n",
    "    detections = current_image['detections']\n",
    "\n",
    "    # Construir la ruta completa de la imagen\n",
    "    image_path = os.path.join(PATH, file)\n",
    "\n",
    "    # Obtener la etiqueta de clase correspondiente al nombre de archivo actual\n",
    "    img_label = labels.get(file, 'unknown')\n",
    "\n",
    "    # Verificar si la imagen tiene la etiqueta \"empty\"\n",
    "    if img_label.lower() == \"empty\":\n",
    "        # Si la etiqueta es \"empty\", eliminar todas las bounding boxes\n",
    "        detections = []\n",
    "\n",
    "    # Obtener el número actual de bounding boxes\n",
    "    num_bboxes = len(detections)\n",
    "\n",
    "    # Cargar la imagen con OpenCV\n",
    "    #image = pygame.image.load(image_path)\n",
    "    image = cv2.imread(image_path)\n",
    "\n",
    "    image = cv2.resize(image, (IMG_WIDTH, IMG_HEIGHT))\n",
    "\n",
    "    # Dibujar las bounding boxes en la imagen\n",
    "    image_with_boxes = draw_bounding_boxes(image, detections)\n",
    "\n",
    "    # Mostrar la imagen en la ventana de Pygame\n",
    "    image_rgb = cv2.cvtColor(image_with_boxes, cv2.COLOR_BGR2RGB)\n",
    "\n",
    "    #image_rotated = np.rot90(image_rgb, k=1)\n",
    "\n",
    "    # Número de imagen\n",
    "    n_img = font.render(str(current_image_index) + \" / \" + str(num_images), True, BLACK)\n",
    "\n",
    "    img_label = font.render(str(img_label) + \" (\" + str(num_bboxes) + \")\", True, BLACK)\n",
    "\n",
    "    # String úmero de bounding boxes\n",
    "    # bbox_count_text = font.render(\"Bounding Boxes: \" + str(num_bboxes), True, BLACK)\n",
    "\n",
    "    image_surface = pygame.surfarray.make_surface(np.rot90(np.fliplr(image_rgb)))\n",
    "    #image_surface = pygame.surfarray.make_surface(image_rgb)\n",
    "    screen.blit(image_surface, (0, 0))\n",
    "    screen.blit(n_img, (IMG_WIDTH - IMG_WIDTH // 6, 20))\n",
    "    screen.blit(img_label, (20, 20))\n",
    "    # Mostrar el número de bounding boxes en la esquina inferior derecha\n",
    "    # screen.blit(bbox_count_text, (IMG_WIDTH - bbox_count_text.get_width() - 10, IMG_HEIGHT - bbox_count_text.get_height() - 10))\n",
    "    pygame.display.flip()\n",
    "\n",
    "    # Variables para controlar la restauración del último elemento eliminado\n",
    "    restored_bbox = None\n",
    "\n",
    "    # Esperar eventos\n",
    "    for event in pygame.event.get():\n",
    "        if event.type == pygame.QUIT:\n",
    "            running = False\n",
    "        elif event.type == pygame.KEYDOWN:\n",
    "            if event.key == pygame.K_LEFT:\n",
    "                current_image_index = (current_image_index - 1) % num_images\n",
    "            elif event.key == pygame.K_RIGHT:\n",
    "                current_image_index = (current_image_index + 1) % num_images\n",
    "            elif event.key == pygame.K_DOWN:\n",
    "                with open('toreview.txt', 'r') as file:\n",
    "                    progreso = str(file.read())\n",
    "                with open('toreview.txt', 'w') as file:\n",
    "                    file.write(progreso + \",\" + str(current_image_index))\n",
    "            elif event.key == pygame.K_x:\n",
    "                delete_bbox = True\n",
    "            elif event.key == pygame.K_z:\n",
    "                if deleted_bbox:\n",
    "                    restored_bbox = deleted_bbox.pop()\n",
    "            elif event.key == pygame.K_s:\n",
    "                with open('output_actualizado.json', 'w') as f:\n",
    "                    json.dump(data, f, indent=2)\n",
    "                with open('progreso.txt', 'w') as file:\n",
    "                    file.write(str(current_image_index))\n",
    "            '''elif event.key == pygame.K_PLUS or event.key == pygame.K_KP_PLUS:\n",
    "                contrast += 0.1\n",
    "            elif event.key == pygame.K_MINUS or event.key == pygame.K_KP_MINUS:\n",
    "                contrast -= 0.1'''\n",
    "        elif event.type == pygame.MOUSEBUTTONDOWN:\n",
    "            if event.button == pygame.BUTTON_RIGHT:\n",
    "                if new_bbox_start is None:\n",
    "                    # Primer click derecho, establecer el punto de inicio del cuadrado\n",
    "                    new_bbox_start = event.pos\n",
    "                else:\n",
    "                    # Segundo click derecho, establecer el punto final del cuadrado y agregarlo a las bounding boxes\n",
    "                    new_bbox_end = event.pos\n",
    "                    x1, y1 = new_bbox_start\n",
    "                    x2, y2 = new_bbox_end\n",
    "\n",
    "                    # Normalizar las coordenadas del cuadrado\n",
    "                    x_norm1 = x1 / screen.get_width()\n",
    "                    y_norm1 = y1 / screen.get_height()\n",
    "                    x_norm2 = x2 / screen.get_width()\n",
    "                    y_norm2 = y2 / screen.get_height()\n",
    "\n",
    "                    # Calcular las coordenadas de la bounding box en relación a la imagen\n",
    "                    x = min(x_norm1, x_norm2)\n",
    "                    y = min(y_norm1, y_norm2)\n",
    "                    w = abs(x_norm2 - x_norm1)\n",
    "                    h = abs(y_norm2 - y_norm1)\n",
    "\n",
    "                    # Añadir la nueva bounding box al JSON de detecciones\n",
    "                    detections.append({\n",
    "                        'category': '1',\n",
    "                        'conf': 0.0,\n",
    "                        'bbox': [x, y, w, h]\n",
    "                    })\n",
    "\n",
    "                    # Reiniciar los puntos de inicio y final del cuadrado\n",
    "                    new_bbox_start = None\n",
    "                    new_bbox_end = None\n",
    "            elif event.button == pygame.BUTTON_LEFT and delete_bbox:\n",
    "                # Obtener las coordenadas del ratón\n",
    "                x, y = event.pos\n",
    "\n",
    "                # Normalizar las coordenadas del ratón\n",
    "                x_norm = x / screen.get_width()\n",
    "                y_norm = y / screen.get_height()\n",
    "\n",
    "                # Buscar la bounding box más cercana a las coordenadas del ratón\n",
    "                min_distance = float('inf')\n",
    "                min_index = None\n",
    "                for i, detection in enumerate(detections):\n",
    "                    bbox = detection['bbox']\n",
    "                    bbox_x = bbox[0] + bbox[2] / 2\n",
    "                    bbox_y = bbox[1] + bbox[3] / 2\n",
    "                    distance = (x_norm - bbox_x) ** 2 + (y_norm - bbox_y) ** 2\n",
    "                    if distance < min_distance:\n",
    "                        min_distance = distance\n",
    "                        min_index = i\n",
    "\n",
    "                # Eliminar la bounding box seleccionada del JSON\n",
    "                deleted_bbox.append(detections.pop(min_index))\n",
    "                delete_bbox = False\n",
    "\n",
    "    # Restaurar el último elemento eliminado\n",
    "    if restored_bbox:\n",
    "        detections.append(restored_bbox)\n",
    "        restored_bbox = None\n",
    "\n",
    "\n",
    "# Cerrar Pygame\n",
    "pygame.quit()"
   ]
  },
  {
   "cell_type": "code",
   "execution_count": 36,
   "id": "64e4e47a",
   "metadata": {
    "ExecuteTime": {
     "end_time": "2023-07-26T13:01:02.886391500Z",
     "start_time": "2023-07-26T13:01:02.876173400Z"
    }
   },
   "outputs": [],
   "source": []
  },
  {
   "cell_type": "code",
   "execution_count": 36,
   "id": "42eeb7d8",
   "metadata": {
    "ExecuteTime": {
     "end_time": "2023-07-26T13:01:02.904269700Z",
     "start_time": "2023-07-26T13:01:02.888405200Z"
    }
   },
   "outputs": [],
   "source": []
  }
 ],
 "metadata": {
  "kernelspec": {
   "display_name": "Python 3 (ipykernel)",
   "language": "python",
   "name": "python3"
  },
  "language_info": {
   "codemirror_mode": {
    "name": "ipython",
    "version": 3
   },
   "file_extension": ".py",
   "mimetype": "text/x-python",
   "name": "python",
   "nbconvert_exporter": "python",
   "pygments_lexer": "ipython3",
   "version": "3.10.11"
  }
 },
 "nbformat": 4,
 "nbformat_minor": 5
}
