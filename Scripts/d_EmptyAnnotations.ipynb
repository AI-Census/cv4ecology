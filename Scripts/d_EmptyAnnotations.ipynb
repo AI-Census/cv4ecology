{
 "cells": [
  {
   "cell_type": "code",
   "execution_count": 25,
   "metadata": {
    "collapsed": true,
    "ExecuteTime": {
     "end_time": "2023-08-07T14:25:52.706395500Z",
     "start_time": "2023-08-07T14:25:52.692609Z"
    }
   },
   "outputs": [],
   "source": [
    "import json"
   ]
  },
  {
   "cell_type": "code",
   "execution_count": 26,
   "outputs": [],
   "source": [
    "PATH = \"../\""
   ],
   "metadata": {
    "collapsed": false,
    "ExecuteTime": {
     "end_time": "2023-08-07T14:25:53.095862200Z",
     "start_time": "2023-08-07T14:25:53.074715Z"
    }
   }
  },
  {
   "cell_type": "code",
   "execution_count": 27,
   "outputs": [],
   "source": [
    "def eliminate_empty_annnotations(coco_json_file, output):\n",
    "    with open(coco_json_file, 'r') as f:\n",
    "        data = json.load(f)\n",
    "\n",
    "    images_with_empty_annotations = set()\n",
    "\n",
    "    for annotation in data['annotations']:\n",
    "        category_id = annotation['category_id']\n",
    "        if category_id == 4:  # Category ID 4 corresponds to 'empty'\n",
    "            images_with_empty_annotations.add(annotation['image_id'])\n",
    "\n",
    "    new_annotations = [annotation for annotation in data['annotations'] if annotation['image_id'] not in images_with_empty_annotations]\n",
    "    data['annotations'] = new_annotations\n",
    "\n",
    "    with open(output, 'w') as f:\n",
    "        json.dump(data, f, indent=4)  # Specify indent=4 for pretty printing"
   ],
   "metadata": {
    "collapsed": false,
    "ExecuteTime": {
     "end_time": "2023-08-07T14:25:53.484842800Z",
     "start_time": "2023-08-07T14:25:53.467718500Z"
    }
   }
  },
  {
   "cell_type": "code",
   "execution_count": 28,
   "outputs": [],
   "source": [
    "coco_json_file = PATH + \"Data/JSONs/output_coco.json\"\n",
    "output = PATH + \"Data/JSONs/d_output_coco_empty.json\""
   ],
   "metadata": {
    "collapsed": false,
    "ExecuteTime": {
     "end_time": "2023-08-07T14:25:53.936936200Z",
     "start_time": "2023-08-07T14:25:53.914844300Z"
    }
   }
  },
  {
   "cell_type": "code",
   "execution_count": 29,
   "outputs": [],
   "source": [
    "eliminate_empty_annnotations(coco_json_file, output)"
   ],
   "metadata": {
    "collapsed": false,
    "ExecuteTime": {
     "end_time": "2023-08-07T14:25:57.694928600Z",
     "start_time": "2023-08-07T14:25:54.859621Z"
    }
   }
  },
  {
   "cell_type": "code",
   "execution_count": 30,
   "outputs": [],
   "source": [
    "def fix_annotation_ids(coco_json_file):\n",
    "    with open(coco_json_file, 'r') as f:\n",
    "        data = json.load(f)\n",
    "\n",
    "    # Crear un mapeo para las nuevas IDs de anotaciones\n",
    "    annotation_mapping = {}\n",
    "    new_annotation_id = 1\n",
    "\n",
    "    for annotation in data['annotations']:\n",
    "        annotation_mapping[annotation['id']] = new_annotation_id\n",
    "        new_annotation_id += 1\n",
    "\n",
    "    # Actualizar las IDs de las anotaciones en el archivo JSON\n",
    "    for annotation in data['annotations']:\n",
    "        annotation['id'] = annotation_mapping[annotation['id']]\n",
    "\n",
    "    with open(coco_json_file, 'w') as f:\n",
    "        json.dump(data, f, indent=4)  # Specify indent=4 for pretty printing\n"
   ],
   "metadata": {
    "collapsed": false,
    "ExecuteTime": {
     "end_time": "2023-08-07T14:25:58.218895300Z",
     "start_time": "2023-08-07T14:25:58.191222200Z"
    }
   }
  },
  {
   "cell_type": "code",
   "execution_count": 31,
   "outputs": [],
   "source": [
    "coco_json_file = output"
   ],
   "metadata": {
    "collapsed": false,
    "ExecuteTime": {
     "end_time": "2023-08-07T14:25:58.732064400Z",
     "start_time": "2023-08-07T14:25:58.702492Z"
    }
   }
  },
  {
   "cell_type": "code",
   "execution_count": 32,
   "outputs": [],
   "source": [
    "fix_annotation_ids(coco_json_file)"
   ],
   "metadata": {
    "collapsed": false,
    "ExecuteTime": {
     "end_time": "2023-08-07T14:26:02.350032700Z",
     "start_time": "2023-08-07T14:25:59.248252100Z"
    }
   }
  },
  {
   "cell_type": "code",
   "execution_count": null,
   "outputs": [],
   "source": [],
   "metadata": {
    "collapsed": false
   }
  }
 ],
 "metadata": {
  "kernelspec": {
   "display_name": "Python 3",
   "language": "python",
   "name": "python3"
  },
  "language_info": {
   "codemirror_mode": {
    "name": "ipython",
    "version": 2
   },
   "file_extension": ".py",
   "mimetype": "text/x-python",
   "name": "python",
   "nbconvert_exporter": "python",
   "pygments_lexer": "ipython2",
   "version": "2.7.6"
  }
 },
 "nbformat": 4,
 "nbformat_minor": 0
}
