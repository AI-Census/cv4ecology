{
 "cells": [
  {
   "cell_type": "code",
   "execution_count": 1,
   "metadata": {
    "collapsed": true,
    "ExecuteTime": {
     "end_time": "2023-07-26T15:52:32.511358200Z",
     "start_time": "2023-07-26T15:52:30.241935200Z"
    }
   },
   "outputs": [],
   "source": [
    "import pandas as pd"
   ]
  },
  {
   "cell_type": "code",
   "execution_count": 2,
   "outputs": [],
   "source": [
    "# Cargar el archivo CSV\n",
    "file_path = \"dataset_caltech.csv\"\n",
    "df = pd.read_csv(file_path)"
   ],
   "metadata": {
    "collapsed": false,
    "ExecuteTime": {
     "end_time": "2023-07-26T15:52:32.565070Z",
     "start_time": "2023-07-26T15:52:32.511358200Z"
    }
   }
  },
  {
   "cell_type": "code",
   "execution_count": 12,
   "outputs": [],
   "source": [
    "# Obtener los valores únicos de la columna \"class\"\n",
    "unique_classes = df[\"class\"].unique()"
   ],
   "metadata": {
    "collapsed": false,
    "ExecuteTime": {
     "end_time": "2023-07-26T15:53:14.238429200Z",
     "start_time": "2023-07-26T15:53:14.211696100Z"
    }
   }
  },
  {
   "cell_type": "code",
   "execution_count": 13,
   "outputs": [],
   "source": [
    "unique_classes.sort()"
   ],
   "metadata": {
    "collapsed": false,
    "ExecuteTime": {
     "end_time": "2023-07-26T15:53:14.613648300Z",
     "start_time": "2023-07-26T15:53:14.602094100Z"
    }
   }
  },
  {
   "cell_type": "code",
   "execution_count": 14,
   "outputs": [
    {
     "data": {
      "text/plain": "array(['bird', 'cow', 'domestic dog', 'egyptian mongoose', 'empty',\n       'european badger', 'european rabbit', 'fallow deer', 'genet',\n       'horse', 'human', 'iberian hare', 'iberian lynx', 'red deer',\n       'red fox', 'wild boar'], dtype=object)"
     },
     "execution_count": 14,
     "metadata": {},
     "output_type": "execute_result"
    }
   ],
   "source": [
    "unique_classes"
   ],
   "metadata": {
    "collapsed": false,
    "ExecuteTime": {
     "end_time": "2023-07-26T15:53:15.278327200Z",
     "start_time": "2023-07-26T15:53:15.231187Z"
    }
   }
  },
  {
   "cell_type": "code",
   "execution_count": null,
   "outputs": [],
   "source": [
    "0: bird\n",
    "1: cow\n",
    "2: domestic dog\n",
    "3: egyptian mongoose\n",
    "4: empty\n",
    "5: european badger\n",
    "6: european rabbit\n",
    "7: fallow deer\n",
    "8: genet\n",
    "9: horse\n",
    "10: human\n",
    "11: iberian hare\n",
    "12: iberian lynx\n",
    "13: red deer\n",
    "14: red fox\n",
    "15: wild boar"
   ],
   "metadata": {
    "collapsed": false
   }
  }
 ],
 "metadata": {
  "kernelspec": {
   "display_name": "Python 3",
   "language": "python",
   "name": "python3"
  },
  "language_info": {
   "codemirror_mode": {
    "name": "ipython",
    "version": 2
   },
   "file_extension": ".py",
   "mimetype": "text/x-python",
   "name": "python",
   "nbconvert_exporter": "python",
   "pygments_lexer": "ipython2",
   "version": "2.7.6"
  }
 },
 "nbformat": 4,
 "nbformat_minor": 0
}
