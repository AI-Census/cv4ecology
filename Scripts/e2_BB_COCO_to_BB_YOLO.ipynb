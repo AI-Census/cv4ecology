{
 "cells": [
  {
   "cell_type": "code",
   "execution_count": 2,
   "metadata": {},
   "outputs": [],
   "source": [
    "import pandas as pd\n",
    "\n",
    "# Input and output file paths\n",
    "PATH = \"../\"\n",
    "input_csv_file = PATH + \"Data/CSVs/dataset_caltech_bb.csv\"\n",
    "output_csv_file = PATH + \"Data/CSVs/dataset_caltech_yolo.csv\"\n",
    "\n",
    "# Load the CSV file\n",
    "df = pd.read_csv(input_csv_file)\n",
    "\n",
    "# Function to convert normalized bounding boxes to YOLO format\n",
    "def convert_to_yolo_format(bounding_boxes):\n",
    "    yolo_boxes = []\n",
    "    for bbox in bounding_boxes:\n",
    "        class_label = bbox[0]\n",
    "        x_min, y_min, width, height = bbox[1:]\n",
    "        \n",
    "        x_center = x_min + width / 2\n",
    "        y_center = y_min + height / 2\n",
    "        \n",
    "        yolo_boxes.append([class_label, x_center, y_center, width, height])\n",
    "    \n",
    "    return yolo_boxes\n",
    "\n",
    "# Apply the conversion function to bounding_boxes column\n",
    "df['bounding_boxes'] = df['bounding_boxes'].apply(eval)  # Convert string to list\n",
    "df['bounding_boxes'] = df['bounding_boxes'].apply(convert_to_yolo_format)\n",
    "\n",
    "# Save the new CSV file with YOLO format bounding boxes\n",
    "df.to_csv(output_csv_file, index=False)\n"
   ]
  }
 ],
 "metadata": {
  "kernelspec": {
   "display_name": "otherstuffystuff",
   "language": "python",
   "name": "python3"
  },
  "language_info": {
   "codemirror_mode": {
    "name": "ipython",
    "version": 3
   },
   "file_extension": ".py",
   "mimetype": "text/x-python",
   "name": "python",
   "nbconvert_exporter": "python",
   "pygments_lexer": "ipython3",
   "version": "3.8.17"
  },
  "orig_nbformat": 4
 },
 "nbformat": 4,
 "nbformat_minor": 2
}
